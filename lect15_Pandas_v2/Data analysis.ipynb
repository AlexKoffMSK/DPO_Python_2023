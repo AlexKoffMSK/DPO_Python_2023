{
 "cells": [
  {
   "cell_type": "markdown",
   "metadata": {},
   "source": [
    "[Затыкать пропуски нейронкой](https://datawig.readthedocs.io/en/latest/)"
   ]
  },
  {
   "cell_type": "code",
   "execution_count": 7,
   "metadata": {},
   "outputs": [],
   "source": [
    "import pandas as pd\n",
    "import numpy as np\n",
    "import csv\n",
    "import swifter\n",
    "import seaborn as sns\n",
    "import matplotlib.pyplot as plt\n"
   ]
  },
  {
   "cell_type": "code",
   "execution_count": 9,
   "metadata": {},
   "outputs": [],
   "source": [
    "lastfm = pd.read_csv('/Users/i.pile/Downloads/lastfm2.csv', \n",
    "                     quotechar='|', \n",
    "                     quoting=csv.QUOTE_ALL, delimiter=' ')"
   ]
  },
  {
   "cell_type": "code",
   "execution_count": 11,
   "metadata": {},
   "outputs": [
    {
     "data": {
      "text/html": [
       "<div>\n",
       "<style scoped>\n",
       "    .dataframe tbody tr th:only-of-type {\n",
       "        vertical-align: middle;\n",
       "    }\n",
       "\n",
       "    .dataframe tbody tr th {\n",
       "        vertical-align: top;\n",
       "    }\n",
       "\n",
       "    .dataframe thead th {\n",
       "        text-align: right;\n",
       "    }\n",
       "</style>\n",
       "<table border=\"1\" class=\"dataframe\">\n",
       "  <thead>\n",
       "    <tr style=\"text-align: right;\">\n",
       "      <th></th>\n",
       "      <th>album href</th>\n",
       "      <th>album tag</th>\n",
       "      <th>album page</th>\n",
       "      <th>album num</th>\n",
       "      <th>album name</th>\n",
       "      <th>album artist</th>\n",
       "      <th>album cover href</th>\n",
       "      <th>album listeners</th>\n",
       "      <th>album scrobbles</th>\n",
       "      <th>album tracks_total</th>\n",
       "      <th>album length</th>\n",
       "      <th>album release date</th>\n",
       "      <th>track pos</th>\n",
       "      <th>track name</th>\n",
       "      <th>track duration</th>\n",
       "      <th>track listeners</th>\n",
       "      <th>track scrobbles</th>\n",
       "      <th>track href</th>\n",
       "    </tr>\n",
       "  </thead>\n",
       "  <tbody>\n",
       "    <tr>\n",
       "      <th>0</th>\n",
       "      <td>https://www.last.fm/music/Linkin+Park/Minutes+...</td>\n",
       "      <td>rock</td>\n",
       "      <td>1</td>\n",
       "      <td>1</td>\n",
       "      <td>Minutes to Midnight</td>\n",
       "      <td>Linkin Park</td>\n",
       "      <td>https://lastfm.freetls.fastly.net/i/u/300x300/...</td>\n",
       "      <td>1910153</td>\n",
       "      <td>52463554</td>\n",
       "      <td>12</td>\n",
       "      <td>NaN</td>\n",
       "      <td>11 May 2007</td>\n",
       "      <td>1</td>\n",
       "      <td>Wake</td>\n",
       "      <td>NaN</td>\n",
       "      <td>392738</td>\n",
       "      <td>2282570</td>\n",
       "      <td>https://www.last.fm/music/Linkin+Park/Minutes+...</td>\n",
       "    </tr>\n",
       "    <tr>\n",
       "      <th>1</th>\n",
       "      <td>https://www.last.fm/music/Linkin+Park/Minutes+...</td>\n",
       "      <td>rock</td>\n",
       "      <td>1</td>\n",
       "      <td>1</td>\n",
       "      <td>Minutes to Midnight</td>\n",
       "      <td>Linkin Park</td>\n",
       "      <td>https://lastfm.freetls.fastly.net/i/u/300x300/...</td>\n",
       "      <td>1910153</td>\n",
       "      <td>52463554</td>\n",
       "      <td>12</td>\n",
       "      <td>NaN</td>\n",
       "      <td>11 May 2007</td>\n",
       "      <td>2</td>\n",
       "      <td>Given Up</td>\n",
       "      <td>3:16</td>\n",
       "      <td>712634</td>\n",
       "      <td>6165064</td>\n",
       "      <td>https://www.last.fm/music/Linkin+Park/Minutes+...</td>\n",
       "    </tr>\n",
       "  </tbody>\n",
       "</table>\n",
       "</div>"
      ],
      "text/plain": [
       "                                          album href album tag  album page  \\\n",
       "0  https://www.last.fm/music/Linkin+Park/Minutes+...      rock           1   \n",
       "1  https://www.last.fm/music/Linkin+Park/Minutes+...      rock           1   \n",
       "\n",
       "   album num           album name album artist  \\\n",
       "0          1  Minutes to Midnight  Linkin Park   \n",
       "1          1  Minutes to Midnight  Linkin Park   \n",
       "\n",
       "                                    album cover href  album listeners  \\\n",
       "0  https://lastfm.freetls.fastly.net/i/u/300x300/...          1910153   \n",
       "1  https://lastfm.freetls.fastly.net/i/u/300x300/...          1910153   \n",
       "\n",
       "   album scrobbles  album tracks_total album length album release date  \\\n",
       "0         52463554                  12          NaN        11 May 2007   \n",
       "1         52463554                  12          NaN        11 May 2007   \n",
       "\n",
       "   track pos track name track duration  track listeners  track scrobbles  \\\n",
       "0          1       Wake            NaN           392738          2282570   \n",
       "1          2   Given Up           3:16           712634          6165064   \n",
       "\n",
       "                                          track href  \n",
       "0  https://www.last.fm/music/Linkin+Park/Minutes+...  \n",
       "1  https://www.last.fm/music/Linkin+Park/Minutes+...  "
      ]
     },
     "execution_count": 11,
     "metadata": {},
     "output_type": "execute_result"
    }
   ],
   "source": [
    "lastfm.head(2)"
   ]
  },
  {
   "cell_type": "code",
   "execution_count": null,
   "metadata": {},
   "outputs": [],
   "source": []
  }
 ],
 "metadata": {
  "kernelspec": {
   "display_name": "Python 3",
   "language": "python",
   "name": "python3"
  },
  "language_info": {
   "codemirror_mode": {
    "name": "ipython",
    "version": 3
   },
   "file_extension": ".py",
   "mimetype": "text/x-python",
   "name": "python",
   "nbconvert_exporter": "python",
   "pygments_lexer": "ipython3",
   "version": "3.8.3"
  }
 },
 "nbformat": 4,
 "nbformat_minor": 4
}
